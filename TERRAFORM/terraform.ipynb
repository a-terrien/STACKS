{
 "cells": [
  {
   "cell_type": "markdown",
   "metadata": {},
   "source": [
    "# Terraform : Infrastructure as Code\n",
    "\n",
    "Selon Yevgeniy Brikman dans son livre \"Terraform: Up & Running\" (2019), Terraform est un outil open-source d'Infrastructure as Code (IaC) qui permet de définir et de gérer l'infrastructure cloud de manière déclarative.\n",
    "\n",
    "## Fonctionnalités principales\n",
    "\n",
    "1. **Langage déclaratif** : Terraform utilise le HashiCorp Configuration Language (HCL) pour décrire l'infrastructure souhaitée.\n",
    "\n",
    "2. **Gestion multi-cloud** : Comme l'explique Kief Morris dans \"Infrastructure as Code\" (2020), Terraform peut gérer des ressources sur différents fournisseurs cloud (AWS, Azure, Google Cloud) ainsi que des infrastructures on-premises.\n",
    "\n",
    "3. **Gestion d'état** : Terraform maintient un état de l'infrastructure qu'il gère, permettant de planifier et d'appliquer des changements de manière contrôlée.\n",
    "\n",
    "## Utilisation de Terraform\n",
    "\n",
    "La documentation officielle de HashiCorp (2024) décrit le processus d'utilisation de Terraform en trois étapes principales :\n",
    "\n",
    "1. **Write** : Définir les ressources dans des fichiers de configuration Terraform.\n",
    "2. **Plan** : Prévisualiser les changements que Terraform va effectuer.\n",
    "3. **Apply** : Appliquer les changements pour créer, modifier ou supprimer l'infrastructure.\n",
    "\n",
    "## Avantages\n",
    "\n",
    "- **Reproductibilité** : L'infrastructure peut être recréée de manière identique dans différents environnements.\n",
    "- **Versionnement** : Les configurations peuvent être versionnées comme du code source.\n",
    "- **Automatisation** : Facilite l'intégration dans des pipelines CI/CD pour une livraison continue de l'infrastructure.\n",
    "\n",
    "Terraform s'inscrit dans la mouvance DevOps en permettant une gestion plus agile et collaborative de l'infrastructure, comme souligné par Morris (2020) et Brikman (2019)."
   ]
  },
  {
   "cell_type": "code",
   "execution_count": null,
   "metadata": {},
   "outputs": [],
   "source": []
  }
 ],
 "metadata": {
  "kernelspec": {
   "display_name": ".stacks",
   "language": "python",
   "name": "python3"
  },
  "language_info": {
   "name": "python",
   "version": "3.12.7"
  }
 },
 "nbformat": 4,
 "nbformat_minor": 2
}
